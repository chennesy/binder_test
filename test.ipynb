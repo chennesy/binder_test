{
 "cells": [
  {
   "cell_type": "code",
   "execution_count": 3,
   "metadata": {},
   "outputs": [
    {
     "name": "stdout",
     "output_type": "stream",
     "text": [
      "Collecting scrapy\n",
      "  Downloading Scrapy-2.5.0-py2.py3-none-any.whl (254 kB)\n",
      "\u001b[K     |████████████████████████████████| 254 kB 3.6 MB/s \n",
      "\u001b[?25hCollecting cssselect>=0.9.1\n",
      "  Downloading cssselect-1.1.0-py2.py3-none-any.whl (16 kB)\n",
      "Requirement already satisfied: pyOpenSSL>=16.2.0 in /anaconda3/lib/python3.7/site-packages (from scrapy) (18.0.0)\n",
      "Requirement already satisfied: Twisted[http2]>=17.9.0 in /anaconda3/lib/python3.7/site-packages (from scrapy) (18.7.0)\n",
      "Collecting w3lib>=1.17.0\n",
      "  Downloading w3lib-1.22.0-py2.py3-none-any.whl (20 kB)\n",
      "Requirement already satisfied: service-identity>=16.0.0 in /anaconda3/lib/python3.7/site-packages (from scrapy) (17.0.0)\n",
      "Collecting queuelib>=1.4.2\n",
      "  Downloading queuelib-1.6.1-py2.py3-none-any.whl (12 kB)\n",
      "Requirement already satisfied: zope.interface>=4.1.3 in /anaconda3/lib/python3.7/site-packages (from scrapy) (4.5.0)\n",
      "Collecting h2<4.0,>=3.0\n",
      "  Downloading h2-3.2.0-py2.py3-none-any.whl (65 kB)\n",
      "\u001b[K     |████████████████████████████████| 65 kB 3.1 MB/s \n",
      "\u001b[?25hCollecting protego>=0.1.15\n",
      "  Downloading Protego-0.1.16.tar.gz (3.2 MB)\n",
      "\u001b[K     |████████████████████████████████| 3.2 MB 5.2 MB/s \n",
      "\u001b[?25hCollecting PyDispatcher>=2.0.5\n",
      "  Downloading PyDispatcher-2.0.5.zip (47 kB)\n",
      "\u001b[K     |████████████████████████████████| 47 kB 5.3 MB/s \n",
      "\u001b[?25hCollecting parsel>=1.5.0\n",
      "  Downloading parsel-1.6.0-py2.py3-none-any.whl (13 kB)\n",
      "Requirement already satisfied: cryptography>=2.0 in /anaconda3/lib/python3.7/site-packages (from scrapy) (2.3.1)\n",
      "Collecting itemloaders>=1.0.1\n",
      "  Downloading itemloaders-1.0.4-py3-none-any.whl (11 kB)\n",
      "Requirement already satisfied: lxml>=3.5.0 in /anaconda3/lib/python3.7/site-packages (from scrapy) (4.2.5)\n",
      "Collecting itemadapter>=0.1.0\n",
      "  Downloading itemadapter-0.2.0-py3-none-any.whl (9.3 kB)\n",
      "Requirement already satisfied: idna>=2.1 in /anaconda3/lib/python3.7/site-packages (from cryptography>=2.0->scrapy) (2.7)\n",
      "Requirement already satisfied: asn1crypto>=0.21.0 in /anaconda3/lib/python3.7/site-packages (from cryptography>=2.0->scrapy) (0.24.0)\n",
      "Requirement already satisfied: six>=1.4.1 in /anaconda3/lib/python3.7/site-packages (from cryptography>=2.0->scrapy) (1.11.0)\n",
      "Requirement already satisfied: cffi!=1.11.3,>=1.7 in /anaconda3/lib/python3.7/site-packages (from cryptography>=2.0->scrapy) (1.11.5)\n",
      "Requirement already satisfied: pycparser in /anaconda3/lib/python3.7/site-packages (from cffi!=1.11.3,>=1.7->cryptography>=2.0->scrapy) (2.18)\n",
      "Collecting hyperframe<6,>=5.2.0\n",
      "  Downloading hyperframe-5.2.0-py2.py3-none-any.whl (12 kB)\n",
      "Collecting hpack<4,>=3.0\n",
      "  Downloading hpack-3.0.0-py2.py3-none-any.whl (38 kB)\n",
      "Requirement already satisfied: jmespath>=0.9.5 in /anaconda3/lib/python3.7/site-packages (from itemloaders>=1.0.1->scrapy) (0.9.5)\n",
      "Requirement already satisfied: pyasn1 in /anaconda3/lib/python3.7/site-packages (from service-identity>=16.0.0->scrapy) (0.4.4)\n",
      "Requirement already satisfied: pyasn1-modules in /anaconda3/lib/python3.7/site-packages (from service-identity>=16.0.0->scrapy) (0.2.2)\n",
      "Requirement already satisfied: attrs in /anaconda3/lib/python3.7/site-packages (from service-identity>=16.0.0->scrapy) (18.2.0)\n",
      "Requirement already satisfied: constantly>=15.1 in /anaconda3/lib/python3.7/site-packages (from Twisted[http2]>=17.9.0->scrapy) (15.1.0)\n",
      "Requirement already satisfied: incremental>=16.10.1 in /anaconda3/lib/python3.7/site-packages (from Twisted[http2]>=17.9.0->scrapy) (17.5.0)\n",
      "Requirement already satisfied: Automat>=0.3.0 in /anaconda3/lib/python3.7/site-packages (from Twisted[http2]>=17.9.0->scrapy) (0.7.0)\n",
      "Requirement already satisfied: hyperlink>=17.1.1 in /anaconda3/lib/python3.7/site-packages (from Twisted[http2]>=17.9.0->scrapy) (18.0.0)\n",
      "Collecting PyHamcrest>=1.9.0\n",
      "  Downloading PyHamcrest-2.0.2-py3-none-any.whl (52 kB)\n",
      "\u001b[K     |████████████████████████████████| 52 kB 988 kB/s \n",
      "\u001b[?25hCollecting priority<2.0,>=1.1.0\n",
      "  Downloading priority-1.3.0-py2.py3-none-any.whl (11 kB)\n",
      "Requirement already satisfied: setuptools in /anaconda3/lib/python3.7/site-packages (from zope.interface>=4.1.3->scrapy) (54.1.1)\n",
      "Building wheels for collected packages: protego, PyDispatcher\n",
      "  Building wheel for protego (setup.py) ... \u001b[?25ldone\n",
      "\u001b[?25h  Created wheel for protego: filename=Protego-0.1.16-py3-none-any.whl size=7764 sha256=8bc83b4007e10669e19abf8910fb813bbf3c5d3ea1b0fac84b1eeb1d9d4317f0\n",
      "  Stored in directory: /Users/codyhennesy/Library/Caches/pip/wheels/ca/44/01/3592ccfbcfaee4ab297c4097e6e9dbe1c7697e3531a39877ab\n",
      "  Building wheel for PyDispatcher (setup.py) ... \u001b[?25ldone\n",
      "\u001b[?25h  Created wheel for PyDispatcher: filename=PyDispatcher-2.0.5-py3-none-any.whl size=11515 sha256=0d984bff3a142ca26e8abe1be54e90e774a2039e0b5f0d6bf3cd39cdbf94dafc\n",
      "  Stored in directory: /Users/codyhennesy/Library/Caches/pip/wheels/2d/18/21/3c6a732eaa69a339198e08bb63b7da2c45933a3428b29ec454\n",
      "Successfully built protego PyDispatcher\n",
      "Installing collected packages: w3lib, PyHamcrest, hyperframe, hpack, cssselect, priority, parsel, itemadapter, h2, queuelib, PyDispatcher, protego, itemloaders, scrapy\n",
      "Successfully installed PyDispatcher-2.0.5 PyHamcrest-2.0.2 cssselect-1.1.0 h2-3.2.0 hpack-3.0.0 hyperframe-5.2.0 itemadapter-0.2.0 itemloaders-1.0.4 parsel-1.6.0 priority-1.3.0 protego-0.1.16 queuelib-1.6.1 scrapy-2.5.0 w3lib-1.22.0\n",
      "\u001b[33mWARNING: You are using pip version 21.0.1; however, version 21.1.1 is available.\n",
      "You should consider upgrading via the '/anaconda3/bin/python -m pip install --upgrade pip' command.\u001b[0m\n"
     ]
    }
   ],
   "source": [
    "import sys\n",
    "!{sys.executable} -m pip install scrapy"
   ]
  },
  {
   "cell_type": "code",
   "execution_count": null,
   "metadata": {},
   "outputs": [],
   "source": []
  }
 ],
 "metadata": {
  "kernelspec": {
   "display_name": "Python 3",
   "language": "python",
   "name": "python3"
  },
  "language_info": {
   "codemirror_mode": {
    "name": "ipython",
    "version": 3
   },
   "file_extension": ".py",
   "mimetype": "text/x-python",
   "name": "python",
   "nbconvert_exporter": "python",
   "pygments_lexer": "ipython3",
   "version": "3.7.0"
  }
 },
 "nbformat": 4,
 "nbformat_minor": 2
}
